{
  "cells": [
    {
      "cell_type": "markdown",
      "metadata": {
        "id": "xAvYXFRDshZX"
      },
      "source": [
        "# Visualization with REFINED\n",
        "\n",
        "In this notebook we show how to convert tabular data into images, and show those images for visualization. As it is explained in the main markdown, REFINED has two steps: Initialization with manifold learning techniques (MDS), and optimization with a search technique (hill climbing). Therefore to perform visualization with REFINED, we need to do the two steps and once we get the coordinate in the square image for each feature of the tabular data we can generate images associate with each datapoint (sample).\n",
        "\n",
        "### 1. In the below cell we perform initialization with MDS"
      ]
    },
    {
      "cell_type": "code",
      "source": [
        "!pip install fancyimpute\n",
        "!pip install MPI\n",
        "!pip install mpi4py"
      ],
      "metadata": {
        "id": "sQutxLhnxRGj",
        "colab": {
          "base_uri": "https://localhost:8080/"
        },
        "outputId": "b9157baa-9c1b-4825-ba41-f2b0fdc10941"
      },
      "execution_count": null,
      "outputs": [
        {
          "output_type": "stream",
          "name": "stdout",
          "text": [
            "Requirement already satisfied: fancyimpute in /usr/local/lib/python3.10/dist-packages (0.7.0)\n",
            "Requirement already satisfied: knnimpute>=0.1.0 in /usr/local/lib/python3.10/dist-packages (from fancyimpute) (0.1.0)\n",
            "Requirement already satisfied: scikit-learn>=0.24.2 in /usr/local/lib/python3.10/dist-packages (from fancyimpute) (1.2.2)\n",
            "Requirement already satisfied: cvxpy in /usr/local/lib/python3.10/dist-packages (from fancyimpute) (1.3.2)\n",
            "Requirement already satisfied: cvxopt in /usr/local/lib/python3.10/dist-packages (from fancyimpute) (1.3.2)\n",
            "Requirement already satisfied: pytest in /usr/local/lib/python3.10/dist-packages (from fancyimpute) (7.4.2)\n",
            "Requirement already satisfied: nose in /usr/local/lib/python3.10/dist-packages (from fancyimpute) (1.3.7)\n",
            "Requirement already satisfied: six in /usr/local/lib/python3.10/dist-packages (from knnimpute>=0.1.0->fancyimpute) (1.16.0)\n",
            "Requirement already satisfied: numpy>=1.10 in /usr/local/lib/python3.10/dist-packages (from knnimpute>=0.1.0->fancyimpute) (1.23.5)\n",
            "Requirement already satisfied: scipy>=1.3.2 in /usr/local/lib/python3.10/dist-packages (from scikit-learn>=0.24.2->fancyimpute) (1.11.3)\n",
            "Requirement already satisfied: joblib>=1.1.1 in /usr/local/lib/python3.10/dist-packages (from scikit-learn>=0.24.2->fancyimpute) (1.3.2)\n",
            "Requirement already satisfied: threadpoolctl>=2.0.0 in /usr/local/lib/python3.10/dist-packages (from scikit-learn>=0.24.2->fancyimpute) (3.2.0)\n",
            "Requirement already satisfied: osqp>=0.4.1 in /usr/local/lib/python3.10/dist-packages (from cvxpy->fancyimpute) (0.6.2.post8)\n",
            "Requirement already satisfied: ecos>=2 in /usr/local/lib/python3.10/dist-packages (from cvxpy->fancyimpute) (2.0.12)\n",
            "Requirement already satisfied: scs>=1.1.6 in /usr/local/lib/python3.10/dist-packages (from cvxpy->fancyimpute) (3.2.3)\n",
            "Requirement already satisfied: setuptools>65.5.1 in /usr/local/lib/python3.10/dist-packages (from cvxpy->fancyimpute) (67.7.2)\n",
            "Requirement already satisfied: iniconfig in /usr/local/lib/python3.10/dist-packages (from pytest->fancyimpute) (2.0.0)\n",
            "Requirement already satisfied: packaging in /usr/local/lib/python3.10/dist-packages (from pytest->fancyimpute) (23.2)\n",
            "Requirement already satisfied: pluggy<2.0,>=0.12 in /usr/local/lib/python3.10/dist-packages (from pytest->fancyimpute) (1.3.0)\n",
            "Requirement already satisfied: exceptiongroup>=1.0.0rc8 in /usr/local/lib/python3.10/dist-packages (from pytest->fancyimpute) (1.1.3)\n",
            "Requirement already satisfied: tomli>=1.0.0 in /usr/local/lib/python3.10/dist-packages (from pytest->fancyimpute) (2.0.1)\n",
            "Requirement already satisfied: qdldl in /usr/local/lib/python3.10/dist-packages (from osqp>=0.4.1->cvxpy->fancyimpute) (0.1.7.post0)\n",
            "Collecting MPI\n",
            "  Downloading mpi-1.0.0-py3-none-any.whl (106 kB)\n",
            "\u001b[2K     \u001b[90m━━━━━━━━━━━━━━━━━━━━━━━━━━━━━━━━━━━━━━━\u001b[0m \u001b[32m106.5/106.5 kB\u001b[0m \u001b[31m2.3 MB/s\u001b[0m eta \u001b[36m0:00:00\u001b[0m\n",
            "\u001b[?25hInstalling collected packages: MPI\n",
            "Successfully installed MPI-1.0.0\n",
            "Collecting mpi4py\n",
            "  Downloading mpi4py-3.1.5.tar.gz (2.5 MB)\n",
            "\u001b[2K     \u001b[90m━━━━━━━━━━━━━━━━━━━━━━━━━━━━━━━━━━━━━━━━\u001b[0m \u001b[32m2.5/2.5 MB\u001b[0m \u001b[31m11.9 MB/s\u001b[0m eta \u001b[36m0:00:00\u001b[0m\n",
            "\u001b[?25h  Installing build dependencies ... \u001b[?25l\u001b[?25hdone\n",
            "  Getting requirements to build wheel ... \u001b[?25l\u001b[?25hdone\n",
            "  Preparing metadata (pyproject.toml) ... \u001b[?25l\u001b[?25hdone\n",
            "Building wheels for collected packages: mpi4py\n",
            "  Building wheel for mpi4py (pyproject.toml) ... \u001b[?25l\u001b[?25hdone\n",
            "  Created wheel for mpi4py: filename=mpi4py-3.1.5-cp310-cp310-linux_x86_64.whl size=2746535 sha256=5f90ca4ca0eaf6365949add9faffe3316199f27e167de049a7ed0ff2c1d0cd71\n",
            "  Stored in directory: /root/.cache/pip/wheels/18/2b/7f/c852523089e9182b45fca50ff56f49a51eeb6284fd25a66713\n",
            "Successfully built mpi4py\n",
            "Installing collected packages: mpi4py\n",
            "Successfully installed mpi4py-3.1.5\n"
          ]
        }
      ]
    },
    {
      "cell_type": "code",
      "source": [
        "from google.colab import drive\n",
        "drive.mount('/content/drive')"
      ],
      "metadata": {
        "id": "2PK2ZZwCkzA-",
        "colab": {
          "base_uri": "https://localhost:8080/"
        },
        "outputId": "109f8167-4fbd-4288-dfd1-aca69f957c1e"
      },
      "execution_count": null,
      "outputs": [
        {
          "output_type": "stream",
          "name": "stdout",
          "text": [
            "Mounted at /content/drive\n"
          ]
        }
      ]
    },
    {
      "cell_type": "code",
      "execution_count": null,
      "metadata": {
        "id": "_zCbYa9zshZb",
        "colab": {
          "base_uri": "https://localhost:8080/"
        },
        "outputId": "524ad6ad-6a5e-4ef8-cbad-a8b15fe3bcfe"
      },
      "outputs": [
        {
          "output_type": "stream",
          "name": "stdout",
          "text": [
            "153\n",
            ">>>> Data  is loaded\n"
          ]
        },
        {
          "output_type": "stream",
          "name": "stderr",
          "text": [
            "/usr/local/lib/python3.10/dist-packages/sklearn/manifold/_mds.py:299: FutureWarning: The default value of `normalized_stress` will change to `'auto'` in version 1.4. To suppress this warning, manually set the value of `normalized_stress`.\n",
            "  warnings.warn(\n"
          ]
        },
        {
          "output_type": "stream",
          "name": "stdout",
          "text": [
            ">>>> MDS dimensionality reduction is done\n"
          ]
        }
      ],
      "source": [
        "import pickle\n",
        "import numpy as np\n",
        "import pandas as pd\n",
        "import cv2\n",
        "import matplotlib.pyplot as plt\n",
        "import scipy.misc\n",
        "import sys\n",
        "sys.path.append('/content/drive/MyDrive/REFINED')\n",
        "import Toolbox\n",
        "from Toolbox import two_d_eq, Assign_features_to_pixels\n",
        "from sklearn.manifold import MDS\n",
        "from sklearn.metrics.pairwise import euclidean_distances\n",
        "import math\n",
        "import os\n",
        "# os.chdir('C:\\\\Users\\\\obazgir\\\\Desktop\\\\CMDS_IMAGES_NEW\\\\')\n",
        "#%% Loading the data\n",
        "# Feat_DF = pd.read_csv(\"normalized_padel_feats_NCI60_672.csv\")\n",
        "Feat_DF = pd.read_csv(\"/content/drive/MyDrive/REFINED/table.csv\")\n",
        "X = Feat_DF.values\n",
        "X = X[:,2:]\n",
        "original_input = pd.DataFrame(data = X)                              # The MDS input should be in a dataframe format with rows as samples and columns as features\n",
        "\n",
        "feature_names_list = Feat_DF.columns.tolist()[2:]                 # Extracting feature_names_list (gene_names or descriptor_names)\n",
        "print(len(feature_names_list))\n",
        "print(\">>>> Data  is loaded\")\n",
        "\n",
        "#%% MDS\n",
        "nn = math.ceil(np.sqrt(len(feature_names_list)))    \t\t\t     # Image dimension\n",
        "Nn = original_input.shape[1] \t\t\t\t\t\t\t\t\t\t # Number of features\n",
        "transposed_input = original_input.T \t\t\t\t\t\t\t     # The MDS input data must be transposed , because we want summarize each feature by two values (as compard to regular dimensionality reduction each sample will be described by two values)\n",
        "Euc_Dist = euclidean_distances(transposed_input) \t\t\t\t\t # Euclidean distance\n",
        "Euc_Dist = np.maximum(Euc_Dist, Euc_Dist.transpose())   \t\t\t # Making the Euclidean distance matrix symmetric\n",
        "embedding = MDS(n_components=2)\t\t\t\t\t\t\t\t\t\t # Reduce the dimensionality by MDS into 2 components\n",
        "mds_xy = embedding.fit_transform(transposed_input)\t\t\t\t\t # Apply MDS\n",
        "\n",
        "print(\">>>> MDS dimensionality reduction is done\")\n",
        "\n",
        "eq_xy = two_d_eq(mds_xy,Nn) # -> [0,1]\n",
        "Img = Assign_features_to_pixels(eq_xy,nn,verbose=0)\t\t\t\t\t# Img is the none-overlapping coordinates generated by MDS\n",
        "\n",
        "#%% To be saved for hill climbing\n",
        "Desc = Feat_DF.columns.tolist();    Desc = Desc[2:]\t\t\t\t\t# Drug descriptors name\n",
        "Dist = pd.DataFrame(data = Euc_Dist, columns = Desc, index = Desc)\t# Generating a distance matrix which includes the Euclidean distance between each and every descriptor\n",
        "data = (Desc, Dist, Img)  \t\t\t\t\t\t\t\t\t\t\t# Preparing the hill climbing inputs\n",
        "\n",
        "with open(\"Init_MDS_Euc.pickle\", 'wb') as f:\t\t\t\t\t# The hill climbing input is a pickle, therefore everything is saved as a pickle to be loaded by the hill climbing\n",
        "    pickle.dump(data, f)"
      ]
    },
    {
      "cell_type": "markdown",
      "metadata": {
        "id": "x9wuXhx_shZg"
      },
      "source": [
        "### 2. Hill Climbing\n",
        "Once the initializaiton is performed, then we have to apply the search optimizaition (hill climbing). The below bash script will run the search optimization."
      ]
    },
    {
      "cell_type": "code",
      "execution_count": null,
      "metadata": {
        "id": "h8uuOFmJshZh",
        "colab": {
          "base_uri": "https://localhost:8080/"
        },
        "outputId": "863b7ff8-4baa-4d1e-975e-f1eaf0a4db43"
      },
      "outputs": [
        {
          "output_type": "stream",
          "name": "stdout",
          "text": [
            "Processors found:  2\n",
            "Time now at the beginning is:  2023-10-13 05:53:38.641570\n",
            "Processors found:  2\n",
            "Time now at the beginning is:  2023-10-13 05:53:38.641748\n",
            "else\n",
            "Initial corr: >>> [3.69454691]\n",
            "/content/drive/MyDrive/REFINED/paraHill.py:68: VisibleDeprecationWarning: Creating an ndarray from ragged nested sequences (which is a list-or-tuple of lists-or-tuples-or ndarrays with different lengths or shapes) is deprecated. If you meant to do this, you must specify 'dtype=object' when creating the ndarray.\n",
            "  results_array = np.array(results)\n",
            "{(0, 0): 5, (0, 3): 6, (0, 6): 5, (0, 9): 9, (0, 12): 4, (3, 0): 3, (3, 3): 5, (3, 6): 4, (3, 9): 7, (3, 12): 1, (6, 0): 5, (6, 3): 5, (6, 6): 5}\n",
            "> (0, 0) Corr: [3.69279476]\n",
            "{(0, 1): 5, (0, 4): 6, (0, 7): 9, (0, 10): 4, (3, 1): 2, (3, 4): 5, (3, 7): 8, (3, 10): 7, (6, 1): 2, (6, 4): 7}\n",
            "> (0, 1) Corr: [3.69133859]\n",
            "{(0, 2): 6, (0, 5): 6, (0, 8): 5, (0, 11): 4, (3, 2): 7, (3, 5): 5, (3, 8): 8, (3, 11): 1, (6, 2): 3, (6, 5): 7}\n",
            "> (0, 2) Corr: [3.69037319]\n",
            "{(1, 0): 8, (1, 3): 7, (1, 6): 6, (1, 9): 4, (1, 12): 1, (4, 0): 8, (4, 3): 5, (4, 6): 5, (4, 9): 7, (4, 12): 1}\n",
            "> (1, 0) Corr: [3.68593227]\n",
            "{(1, 1): 5, (1, 4): 7, (1, 7): 6, (1, 10): 4, (4, 1): 8, (4, 4): 5, (4, 7): 3, (4, 10): 7}\n",
            "> (1, 1) Corr: [3.68520185]\n",
            "{(1, 2): 5, (1, 5): 6, (1, 8): 9, (1, 11): 9, (4, 2): 5, (4, 5): 3, (4, 8): 7, (4, 11): 2}\n",
            "> (1, 2) Corr: [3.68344304]\n",
            "{(2, 0): 5, (2, 3): 5, (2, 6): 4, (2, 9): 4, (2, 12): 2, (5, 0): 8, (5, 3): 5, (5, 6): 7, (5, 9): 7, (5, 12): 1}\n",
            "> (2, 0) Corr: [3.6829346]\n",
            "{(2, 1): 5, (2, 4): 5, (2, 7): 6, (2, 10): 9, (5, 1): 5, (5, 4): 5, (5, 7): 5, (5, 10): 7}\n",
            "> (2, 1) Corr: [3.68270218]\n",
            "{(2, 2): 5, (2, 5): 5, (2, 8): 7, (2, 11): 5, (5, 2): 5, (5, 5): 5, (5, 8): 5, (5, 11): 2}\n",
            "> (2, 2) Corr: [3.68262199]\n",
            ">>> 0 Corr: [3.68262199]\n",
            "{(0, 0): 8, (0, 3): 6, (0, 6): 9, (0, 9): 5, (0, 12): 4, (3, 0): 8, (3, 3): 5, (3, 6): 6, (3, 9): 8, (3, 12): 8, (6, 0): 9, (6, 3): 5, (6, 6): 2}\n",
            "> (0, 0) Corr: [3.67807307]\n",
            "{(0, 1): 6, (0, 4): 6, (0, 7): 9, (0, 10): 4, (3, 1): 5, (3, 4): 5, (3, 7): 7, (3, 10): 2, (6, 1): 8, (6, 4): 5}\n",
            "> (0, 1) Corr: [3.67782572]\n",
            "{(0, 2): 6, (0, 5): 5, (0, 8): 9, (0, 11): 4, (3, 2): 5, (3, 5): 5, (3, 8): 3, (3, 11): 5, (6, 2): 5, (6, 5): 8}\n",
            "> (0, 2) Corr: [3.67769912]\n",
            "{(1, 0): 5, (1, 3): 5, (1, 6): 6, (1, 9): 5, (1, 12): 1, (4, 0): 8, (4, 3): 5, (4, 6): 7, (4, 9): 5, (4, 12): 5}\n",
            "> (1, 0) Corr: [3.67756511]\n",
            "{(1, 1): 5, (1, 4): 6, (1, 7): 6, (1, 10): 6, (4, 1): 5, (4, 4): 5, (4, 7): 3, (4, 10): 2}\n",
            "> (1, 1) Corr: [3.67722143]\n",
            "{(1, 2): 5, (1, 5): 6, (1, 8): 5, (1, 11): 5, (4, 2): 5, (4, 5): 3, (4, 8): 2, (4, 11): 5}\n",
            "> (1, 2) Corr: [3.67719286]\n",
            "{(2, 0): 8, (2, 3): 5, (2, 6): 6, (2, 9): 7, (2, 12): 2, (5, 0): 5, (5, 3): 5, (5, 6): 5, (5, 9): 5, (5, 12): 8}\n",
            "> (2, 0) Corr: [3.67676192]\n",
            "{(2, 1): 5, (2, 4): 5, (2, 7): 5, (2, 10): 8, (5, 1): 8, (5, 4): 5, (5, 7): 3, (5, 10): 2}\n",
            "> (2, 1) Corr: [3.67666433]\n",
            "{(2, 2): 5, (2, 5): 6, (2, 8): 5, (2, 11): 1, (5, 2): 5, (5, 5): 5, (5, 8): 5, (5, 11): 6}\n",
            "> (2, 2) Corr: [3.67654067]\n",
            ">>> 1 Corr: [3.67654067]\n",
            "Time now at the end:  2023-10-13 05:55:38.917175\n"
          ]
        }
      ],
      "source": [
        "# with MPI\n",
        "!mpirun --allow-run-as-root --host localhost:2 -np 2 python3 /content/drive/MyDrive/REFINED/mpiHill_UF.py --init 'Init_MDS_Euc.pickle' --mapping 'Mapping_REFINED.pickle' --evolution \"REFINED_Evolve.csv\" --num 2"
      ]
    },
    {
      "cell_type": "code",
      "source": [
        "# without MPI\n",
        "from itertools import product\n",
        "from scipy.spatial import distance\n",
        "import paraHill\n",
        "\n",
        "\n",
        "\n",
        "# Convert from 'F34' to int 34\n",
        "init_map = np.char.strip(Img.astype(str),'F').astype(int)\n",
        "map_in_int = init_map\n",
        "\n",
        "iters_count = 2\n",
        "\n",
        "for iter_num in range(iters_count):\n",
        "    init_coords = [x for x in product([0,1,2],repeat = 2)]\n",
        "    for init_coord in init_coords:\n",
        "        # generate the centroids\n",
        "        xxx = [init_coord[0]+i*3 for i in range(int(nn/3)+1) if (init_coord[0]+i*3)<nn]\n",
        "        yyy = [init_coord[1]+i*3 for i in range(int(nn/3)+1) if (init_coord[1]+i*3)<nn]\n",
        "        centr_list = [x for x in product(xxx,yyy)]\n",
        "        swap_dict = paraHill.evaluate_centroids_in_list(centr_list,Dist,map_in_int)\n",
        "        print(swap_dict)\n",
        "        map_in_int = paraHill.execute_dict_swap(swap_dict, map_in_int)\n",
        "\n",
        "        print(\">\",init_coord,\"Corr:\",paraHill.universial_corr(Dist,map_in_int))\n",
        "\n",
        "        # print(\">>>\",n_iter,\"Corr:\",paraHill.universial_corr(dist_matr,map_in_int))\n",
        "        # corr_evol.append(paraHill.universial_corr(dist_matr,map_in_int))\n",
        "\n",
        "coords = np.array([[item[0] for item in np.where(map_in_int == ii)] for ii in range(Nn)])\n",
        "# with open(args.mapping,'wb') as file:\n",
        "#     pickle.dump([gene_names,coords,map_in_int],file)\n"
      ],
      "metadata": {
        "colab": {
          "base_uri": "https://localhost:8080/"
        },
        "id": "XOS8kmpPzjR2",
        "outputId": "c009bdcf-0ce9-47e2-efef-ba165dc41aae"
      },
      "execution_count": null,
      "outputs": [
        {
          "output_type": "stream",
          "name": "stderr",
          "text": [
            "/content/drive/MyDrive/REFINED/paraHill.py:68: VisibleDeprecationWarning: Creating an ndarray from ragged nested sequences (which is a list-or-tuple of lists-or-tuples-or ndarrays with different lengths or shapes) is deprecated. If you meant to do this, you must specify 'dtype=object' when creating the ndarray.\n",
            "  results_array = np.array(results)\n"
          ]
        },
        {
          "output_type": "stream",
          "name": "stdout",
          "text": [
            "{(0, 0): 5, (0, 3): 6, (0, 6): 5, (0, 9): 9, (0, 12): 4, (3, 0): 3, (3, 3): 5, (3, 6): 4, (3, 9): 7, (3, 12): 1, (6, 0): 5, (6, 3): 5, (6, 6): 5, (6, 9): 3, (6, 12): 2, (9, 0): 9, (9, 3): 9, (9, 6): 6, (9, 9): 4, (9, 12): 5, (12, 0): 2, (12, 3): 1, (12, 6): 5, (12, 9): 4, (12, 12): 5}\n",
            "> (0, 0) Corr: [3.68923851]\n",
            "{(0, 1): 5, (0, 4): 6, (0, 7): 9, (0, 10): 4, (3, 1): 2, (3, 4): 5, (3, 7): 8, (3, 10): 7, (6, 1): 2, (6, 4): 7, (6, 7): 5, (6, 10): 3, (9, 1): 6, (9, 4): 6, (9, 7): 2, (9, 10): 3, (12, 1): 1, (12, 4): 1, (12, 7): 6, (12, 10): 4}\n",
            "> (0, 1) Corr: [3.68273078]\n",
            "{(0, 2): 6, (0, 5): 6, (0, 8): 5, (0, 11): 4, (3, 2): 7, (3, 5): 5, (3, 8): 8, (3, 11): 1, (6, 2): 3, (6, 5): 7, (6, 8): 5, (6, 11): 7, (9, 2): 8, (9, 5): 3, (9, 8): 5, (9, 11): 8, (12, 2): 1, (12, 5): 4, (12, 8): 6, (12, 11): 3}\n",
            "> (0, 2) Corr: [3.68094064]\n",
            "{(1, 0): 8, (1, 3): 7, (1, 6): 6, (1, 9): 4, (1, 12): 1, (4, 0): 8, (4, 3): 5, (4, 6): 5, (4, 9): 7, (4, 12): 1, (7, 0): 5, (7, 3): 8, (7, 6): 5, (7, 9): 3, (7, 12): 7, (10, 0): 2, (10, 3): 9, (10, 6): 8, (10, 9): 4, (10, 12): 8}\n",
            "> (1, 0) Corr: [3.67621942]\n",
            "{(1, 1): 5, (1, 4): 7, (1, 7): 6, (1, 10): 4, (4, 1): 8, (4, 4): 5, (4, 7): 3, (4, 10): 7, (7, 1): 2, (7, 4): 9, (7, 7): 5, (7, 10): 5, (10, 1): 2, (10, 4): 9, (10, 7): 5, (10, 10): 2}\n",
            "> (1, 1) Corr: [3.67091717]\n",
            "{(1, 2): 5, (1, 5): 6, (1, 8): 9, (1, 11): 9, (4, 2): 5, (4, 5): 3, (4, 8): 7, (4, 11): 2, (7, 2): 6, (7, 5): 7, (7, 8): 5, (7, 11): 2, (10, 2): 5, (10, 5): 4, (10, 8): 8, (10, 11): 5}\n",
            "> (1, 2) Corr: [3.66870942]\n",
            "{(2, 0): 5, (2, 3): 5, (2, 6): 4, (2, 9): 4, (2, 12): 2, (5, 0): 9, (5, 3): 5, (5, 6): 7, (5, 9): 7, (5, 12): 1, (8, 0): 5, (8, 3): 5, (8, 6): 6, (8, 9): 3, (8, 12): 5, (11, 0): 2, (11, 3): 4, (11, 6): 1, (11, 9): 2, (11, 12): 7}\n",
            "> (2, 0) Corr: [3.66783328]\n",
            "{(2, 1): 5, (2, 4): 5, (2, 7): 6, (2, 10): 9, (5, 1): 8, (5, 4): 5, (5, 7): 5, (5, 10): 5, (8, 1): 5, (8, 4): 8, (8, 7): 2, (8, 10): 3, (11, 1): 1, (11, 4): 9, (11, 7): 9, (11, 10): 2}\n",
            "> (2, 1) Corr: [3.66740344]\n",
            "{(2, 2): 5, (2, 5): 5, (2, 8): 7, (2, 11): 5, (5, 2): 5, (5, 5): 5, (5, 8): 5, (5, 11): 2, (8, 2): 1, (8, 5): 2, (8, 8): 5, (8, 11): 5, (11, 2): 5, (11, 5): 9, (11, 8): 3, (11, 11): 5}\n",
            "> (2, 2) Corr: [3.66680992]\n",
            "{(0, 0): 8, (0, 3): 6, (0, 6): 9, (0, 9): 5, (0, 12): 4, (3, 0): 8, (3, 3): 5, (3, 6): 6, (3, 9): 8, (3, 12): 8, (6, 0): 2, (6, 3): 8, (6, 6): 2, (6, 9): 5, (6, 12): 2, (9, 0): 5, (9, 3): 9, (9, 6): 1, (9, 9): 5, (9, 12): 5, (12, 0): 2, (12, 3): 4, (12, 6): 6, (12, 9): 6, (12, 12): 5}\n",
            "> (0, 0) Corr: [3.66167574]\n",
            "{(0, 1): 6, (0, 4): 6, (0, 7): 9, (0, 10): 4, (3, 1): 5, (3, 4): 5, (3, 7): 7, (3, 10): 2, (6, 1): 8, (6, 4): 5, (6, 7): 8, (6, 10): 5, (9, 1): 5, (9, 4): 4, (9, 7): 5, (9, 10): 8, (12, 1): 1, (12, 4): 5, (12, 7): 6, (12, 10): 6}\n",
            "> (0, 1) Corr: [3.66138064]\n",
            "{(0, 2): 6, (0, 5): 5, (0, 8): 9, (0, 11): 4, (3, 2): 5, (3, 5): 5, (3, 8): 3, (3, 11): 5, (6, 2): 8, (6, 5): 8, (6, 8): 5, (6, 11): 2, (9, 2): 5, (9, 5): 3, (9, 8): 8, (9, 11): 5, (12, 2): 1, (12, 5): 6, (12, 8): 6, (12, 11): 5}\n",
            "> (0, 2) Corr: [3.6611305]\n",
            "{(1, 0): 5, (1, 3): 5, (1, 6): 6, (1, 9): 5, (1, 12): 1, (4, 0): 8, (4, 3): 5, (4, 6): 7, (4, 9): 5, (4, 12): 5, (7, 0): 5, (7, 3): 5, (7, 6): 5, (7, 9): 5, (7, 12): 2, (10, 0): 2, (10, 3): 5, (10, 6): 4, (10, 9): 3, (10, 12): 5}\n",
            "> (1, 0) Corr: [3.66096019]\n",
            "{(1, 1): 5, (1, 4): 6, (1, 7): 6, (1, 10): 6, (4, 1): 8, (4, 4): 5, (4, 7): 3, (4, 10): 2, (7, 1): 5, (7, 4): 5, (7, 7): 5, (7, 10): 7, (10, 1): 1, (10, 4): 6, (10, 7): 7, (10, 10): 5}\n",
            "> (1, 1) Corr: [3.66040435]\n",
            "{(1, 2): 5, (1, 5): 6, (1, 8): 5, (1, 11): 5, (4, 2): 5, (4, 5): 3, (4, 8): 2, (4, 11): 5, (7, 2): 8, (7, 5): 5, (7, 8): 5, (7, 11): 5, (10, 2): 5, (10, 5): 9, (10, 8): 4, (10, 11): 7}\n",
            "> (1, 2) Corr: [3.66002968]\n",
            "{(2, 0): 8, (2, 3): 5, (2, 6): 6, (2, 9): 7, (2, 12): 2, (5, 0): 5, (5, 3): 5, (5, 6): 5, (5, 9): 5, (5, 12): 8, (8, 0): 5, (8, 3): 5, (8, 6): 8, (8, 9): 5, (8, 12): 2, (11, 0): 2, (11, 3): 5, (11, 6): 9, (11, 9): 2, (11, 12): 5}\n",
            "> (2, 0) Corr: [3.65955558]\n",
            "{(2, 1): 5, (2, 4): 5, (2, 7): 5, (2, 10): 8, (5, 1): 8, (5, 4): 5, (5, 7): 3, (5, 10): 2, (8, 1): 5, (8, 4): 7, (8, 7): 5, (8, 10): 8, (11, 1): 1, (11, 4): 9, (11, 7): 4, (11, 10): 6}\n",
            "> (2, 1) Corr: [3.65925218]\n",
            "{(2, 2): 5, (2, 5): 6, (2, 8): 5, (2, 11): 1, (5, 2): 5, (5, 5): 5, (5, 8): 5, (5, 11): 5, (8, 2): 5, (8, 5): 9, (8, 8): 5, (8, 11): 5, (11, 2): 5, (11, 5): 6, (11, 8): 4, (11, 11): 5}\n",
            "> (2, 2) Corr: [3.65908567]\n"
          ]
        }
      ]
    },
    {
      "cell_type": "markdown",
      "metadata": {
        "id": "og4eWGBDshZi"
      },
      "source": [
        "### 3. Visualization\n",
        "Once the search optimization is performed and the coordinates for features are obtained, we can use the coordinates to generate images for visualization purpose or training CNNs. In the below code visualization is performed."
      ]
    },
    {
      "cell_type": "code",
      "execution_count": null,
      "metadata": {
        "id": "yYDS-ZmcshZk",
        "outputId": "05d30fc3-eb25-4119-948c-d62bebafd5a5",
        "colab": {
          "base_uri": "https://localhost:8080/",
          "height": 563
        }
      },
      "outputs": [
        {
          "output_type": "stream",
          "name": "stdout",
          "text": [
            "(19, 169)\n",
            "(19, 169)\n"
          ]
        },
        {
          "output_type": "execute_result",
          "data": {
            "text/plain": [
              "(-0.5, 12.5, 12.5, -0.5)"
            ]
          },
          "metadata": {},
          "execution_count": 12
        },
        {
          "output_type": "display_data",
          "data": {
            "text/plain": [
              "<Figure size 1200x800 with 4 Axes>"
            ],
            "image/png": "[encoded data removed]"
          },
          "metadata": {}
        },
        {
          "output_type": "display_data",
          "data": {
            "text/plain": [
              "<Figure size 1200x800 with 4 Axes>"
            ],
            "image/png": "[encoded data removed]"
          },
          "metadata": {}
        }
      ],
      "source": [
        "#%% Visualizing REFFINED images\n",
        "import math\n",
        "import pickle\n",
        "from Toolbox import REFINED_Im_Gen\n",
        "# MDS\n",
        "# with open('Mapping_REFINED.pickle','rb') as file:\n",
        "#     gene_names_MDS,coords_MDS,map_in_int_MDS = pickle.load(file)\n",
        "\n",
        "# We pick the first 100 data points because of computational costs, but you can pick the entire datasets.\n",
        "X_REFINED_MDS = REFINED_Im_Gen(X[:,:],nn, map_in_int, Desc, coords)\n",
        "# X_prev = REFINED_Im_Gen(X[:,:],nn, Img, Desc,Dist)\n",
        "Font = 20\n",
        "print(X_REFINED_MDS.shape)\n",
        "\n",
        "\n",
        "fig=plt.figure(figsize=(12,8), dpi= 100)\n",
        "plt.subplot(141)\n",
        "plt.imshow(X_REFINED_MDS[1,:].reshape(nn,nn), cmap = 'viridis')\n",
        "plt.title(\"Example1\", fontsize = Font)\n",
        "plt.axis('off')\n",
        "\n",
        "plt.subplot(142)\n",
        "plt.imshow(X_REFINED_MDS[2,:].reshape(nn, nn), cmap = 'viridis')\n",
        "plt.title(\"Example2\", fontsize = Font)\n",
        "plt.axis('off')\n",
        "\n",
        "plt.subplot(143)\n",
        "plt.imshow(X_REFINED_MDS[3,:].reshape(nn,nn), cmap = 'viridis')\n",
        "plt.title(\"Example3\", fontsize = Font)\n",
        "plt.axis('off')\n",
        "\n",
        "\n",
        "plt.subplot(144)\n",
        "plt.imshow(X_REFINED_MDS[4,:].reshape(nn,nn), cmap = 'viridis')\n",
        "plt.title(\"Example4\", fontsize = Font)\n",
        "plt.axis('off')\n",
        "\n",
        "\n",
        "#with MPI\n",
        "with open('Mapping_REFINED.pickle','rb') as file:\n",
        "    gene_names_MDS,coords_MDS,map_in_int_MDS = pickle.load(file)\n",
        "\n",
        "# We pick the first 100 data points because of computational costs, but you can pick the entire datasets.\n",
        "X_REFINED_MDS = REFINED_Im_Gen(X[:,:],nn, map_in_int_MDS, gene_names_MDS, coords_MDS)\n",
        "# X_prev = REFINED_Im_Gen(X[:,:],nn, Img, Desc,Dist)\n",
        "Font = 20\n",
        "print(X_REFINED_MDS.shape)\n",
        "\n",
        "\n",
        "fig=plt.figure(figsize=(12,8), dpi= 100)\n",
        "plt.subplot(141)\n",
        "plt.imshow(X_REFINED_MDS[1,:].reshape(nn,nn), cmap = 'viridis')\n",
        "plt.title(\"Example1\", fontsize = Font)\n",
        "plt.axis('off')\n",
        "\n",
        "plt.subplot(142)\n",
        "plt.imshow(X_REFINED_MDS[2,:].reshape(nn, nn), cmap = 'viridis')\n",
        "plt.title(\"Example2\", fontsize = Font)\n",
        "plt.axis('off')\n",
        "\n",
        "plt.subplot(143)\n",
        "plt.imshow(X_REFINED_MDS[3,:].reshape(nn,nn), cmap = 'viridis')\n",
        "plt.title(\"Example3\", fontsize = Font)\n",
        "plt.axis('off')\n",
        "\n",
        "\n",
        "plt.subplot(144)\n",
        "plt.imshow(X_REFINED_MDS[4,:].reshape(nn,nn), cmap = 'viridis')\n",
        "plt.title(\"Example4\", fontsize = Font)\n",
        "plt.axis('off')"
      ]
    }
  ],
  "metadata": {
    "kernelspec": {
      "display_name": "Python 3",
      "language": "python",
      "name": "python3"
    },
    "language_info": {
      "codemirror_mode": {
        "name": "ipython",
        "version": 3
      },
      "file_extension": ".py",
      "mimetype": "text/x-python",
      "name": "python",
      "nbconvert_exporter": "python",
      "pygments_lexer": "ipython3",
      "version": "3.7.1"
    },
    "colab": {
      "provenance": []
    }
  },
  "nbformat": 4,
  "nbformat_minor": 0
}